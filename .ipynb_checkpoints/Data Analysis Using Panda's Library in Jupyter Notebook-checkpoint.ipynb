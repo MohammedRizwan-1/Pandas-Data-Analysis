{
 "cells": [
  {
   "cell_type": "markdown",
   "id": "5c85b038",
   "metadata": {},
   "source": [
    "# Data Analysis Using Panda's Library in Jupyter Notebook."
   ]
  },
  {
   "cell_type": "code",
   "execution_count": 4,
   "id": "bb2348d2",
   "metadata": {},
   "outputs": [
    {
     "data": {
      "text/html": [
       "<div>\n",
       "<style scoped>\n",
       "    .dataframe tbody tr th:only-of-type {\n",
       "        vertical-align: middle;\n",
       "    }\n",
       "\n",
       "    .dataframe tbody tr th {\n",
       "        vertical-align: top;\n",
       "    }\n",
       "\n",
       "    .dataframe thead th {\n",
       "        text-align: right;\n",
       "    }\n",
       "</style>\n",
       "<table border=\"1\" class=\"dataframe\">\n",
       "  <thead>\n",
       "    <tr style=\"text-align: right;\">\n",
       "      <th></th>\n",
       "      <th>Student ID</th>\n",
       "      <th>student_name</th>\n",
       "      <th>gender</th>\n",
       "      <th>grade</th>\n",
       "      <th>school_name</th>\n",
       "      <th>reading_score</th>\n",
       "      <th>math_score</th>\n",
       "      <th>School ID</th>\n",
       "      <th>type</th>\n",
       "      <th>size</th>\n",
       "      <th>budget</th>\n",
       "    </tr>\n",
       "  </thead>\n",
       "  <tbody>\n",
       "    <tr>\n",
       "      <th>0</th>\n",
       "      <td>0</td>\n",
       "      <td>Paul Bradley</td>\n",
       "      <td>M</td>\n",
       "      <td>9th</td>\n",
       "      <td>Huang High School</td>\n",
       "      <td>66</td>\n",
       "      <td>79</td>\n",
       "      <td>0</td>\n",
       "      <td>District</td>\n",
       "      <td>2917</td>\n",
       "      <td>1910635</td>\n",
       "    </tr>\n",
       "    <tr>\n",
       "      <th>1</th>\n",
       "      <td>1</td>\n",
       "      <td>Victor Smith</td>\n",
       "      <td>M</td>\n",
       "      <td>12th</td>\n",
       "      <td>Huang High School</td>\n",
       "      <td>94</td>\n",
       "      <td>61</td>\n",
       "      <td>0</td>\n",
       "      <td>District</td>\n",
       "      <td>2917</td>\n",
       "      <td>1910635</td>\n",
       "    </tr>\n",
       "    <tr>\n",
       "      <th>2</th>\n",
       "      <td>2</td>\n",
       "      <td>Kevin Rodriguez</td>\n",
       "      <td>M</td>\n",
       "      <td>12th</td>\n",
       "      <td>Huang High School</td>\n",
       "      <td>90</td>\n",
       "      <td>60</td>\n",
       "      <td>0</td>\n",
       "      <td>District</td>\n",
       "      <td>2917</td>\n",
       "      <td>1910635</td>\n",
       "    </tr>\n",
       "    <tr>\n",
       "      <th>3</th>\n",
       "      <td>3</td>\n",
       "      <td>Dr. Richard Scott</td>\n",
       "      <td>M</td>\n",
       "      <td>12th</td>\n",
       "      <td>Huang High School</td>\n",
       "      <td>67</td>\n",
       "      <td>58</td>\n",
       "      <td>0</td>\n",
       "      <td>District</td>\n",
       "      <td>2917</td>\n",
       "      <td>1910635</td>\n",
       "    </tr>\n",
       "    <tr>\n",
       "      <th>4</th>\n",
       "      <td>4</td>\n",
       "      <td>Bonnie Ray</td>\n",
       "      <td>F</td>\n",
       "      <td>9th</td>\n",
       "      <td>Huang High School</td>\n",
       "      <td>97</td>\n",
       "      <td>84</td>\n",
       "      <td>0</td>\n",
       "      <td>District</td>\n",
       "      <td>2917</td>\n",
       "      <td>1910635</td>\n",
       "    </tr>\n",
       "  </tbody>\n",
       "</table>\n",
       "</div>"
      ],
      "text/plain": [
       "   Student ID       student_name gender grade        school_name  \\\n",
       "0           0       Paul Bradley      M   9th  Huang High School   \n",
       "1           1       Victor Smith      M  12th  Huang High School   \n",
       "2           2    Kevin Rodriguez      M  12th  Huang High School   \n",
       "3           3  Dr. Richard Scott      M  12th  Huang High School   \n",
       "4           4         Bonnie Ray      F   9th  Huang High School   \n",
       "\n",
       "   reading_score  math_score  School ID      type  size   budget  \n",
       "0             66          79          0  District  2917  1910635  \n",
       "1             94          61          0  District  2917  1910635  \n",
       "2             90          60          0  District  2917  1910635  \n",
       "3             67          58          0  District  2917  1910635  \n",
       "4             97          84          0  District  2917  1910635  "
      ]
     },
     "execution_count": 4,
     "metadata": {},
     "output_type": "execute_result"
    }
   ],
   "source": [
    "# Dependencies and Setup\n",
    "import pandas as pd\n",
    "\n",
    "# File to Load (Remember to Change These)\n",
    "school_data_to_load = \"PyCitySchools/Resources/schools_complete.csv\"\n",
    "student_data_to_load = \"PyCitySchools/Resources/students_complete.csv\"\n",
    "\n",
    "# Read School and Student Data File and store into Pandas DataFrames\n",
    "school_data = pd.read_csv(school_data_to_load)\n",
    "student_data = pd.read_csv(student_data_to_load)\n",
    "\n",
    "# Combine the data into a single dataset.  \n",
    "school_data_complete = pd.merge(student_data, school_data, how=\"left\", on=[\"school_name\", \"school_name\"])\n",
    "school_data_complete.head()"
   ]
  },
  {
   "cell_type": "markdown",
   "id": "6b10b2ff",
   "metadata": {},
   "source": [
    "### 1.0 District Summary\n"
   ]
  },
  {
   "cell_type": "code",
   "execution_count": 5,
   "id": "513d2ab7",
   "metadata": {},
   "outputs": [
    {
     "data": {
      "text/plain": [
       "15"
      ]
     },
     "execution_count": 5,
     "metadata": {},
     "output_type": "execute_result"
    }
   ],
   "source": [
    "# Calculating Total Number of Schools\n",
    "num_of_diff_schools = school_data_complete ['school_name'].unique()\n",
    "total_schools = len(num_of_diff_schools)\n",
    "total_schools\n"
   ]
  },
  {
   "cell_type": "code",
   "execution_count": 6,
   "id": "b7cfa10e",
   "metadata": {},
   "outputs": [
    {
     "data": {
      "text/plain": [
       "39170"
      ]
     },
     "execution_count": 6,
     "metadata": {},
     "output_type": "execute_result"
    }
   ],
   "source": [
    "# Calculating Total Number of Students\n",
    "total_num_students = school_data_complete [\"student_name\"].count()\n",
    "total_num_students"
   ]
  },
  {
   "cell_type": "code",
   "execution_count": 7,
   "id": "fb4f8327",
   "metadata": {},
   "outputs": [
    {
     "data": {
      "text/plain": [
       "24649428"
      ]
     },
     "execution_count": 7,
     "metadata": {},
     "output_type": "execute_result"
    }
   ],
   "source": [
    "# Calculating Total Budget\n",
    "Uniq_total_budget = school_data_complete[\"budget\"].unique()\n",
    "total_budget = Uniq_total_budget.sum()\n",
    "total_budget"
   ]
  },
  {
   "cell_type": "code",
   "execution_count": 8,
   "id": "b8a74246",
   "metadata": {},
   "outputs": [
    {
     "data": {
      "text/plain": [
       "78.98537145774827"
      ]
     },
     "execution_count": 8,
     "metadata": {},
     "output_type": "execute_result"
    }
   ],
   "source": [
    "# Calculating Average Math Score\n",
    "avg_math_score = school_data_complete[\"math_score\"].mean()\n",
    "avg_math_score"
   ]
  },
  {
   "cell_type": "code",
   "execution_count": 9,
   "id": "a59d9f50",
   "metadata": {},
   "outputs": [
    {
     "data": {
      "text/plain": [
       "81.87784018381414"
      ]
     },
     "execution_count": 9,
     "metadata": {},
     "output_type": "execute_result"
    }
   ],
   "source": [
    "# Calculate Average Reading Score \n",
    "avg_read_score = school_data_complete[\"reading_score\"].mean()\n",
    "avg_read_score"
   ]
  },
  {
   "cell_type": "code",
   "execution_count": 10,
   "id": "62beab0b",
   "metadata": {},
   "outputs": [
    {
     "data": {
      "text/plain": [
       "80.43160582078121"
      ]
     },
     "execution_count": 10,
     "metadata": {},
     "output_type": "execute_result"
    }
   ],
   "source": [
    "# Overall Students Passing Reading & Math\n",
    "avg_passing_both = (avg_math_score + avg_read_score)/2\n",
    "avg_passing_both"
   ]
  },
  {
   "cell_type": "code",
   "execution_count": 11,
   "id": "be9f4c7a",
   "metadata": {},
   "outputs": [
    {
     "name": "stdout",
     "output_type": "stream",
     "text": [
      "74.9808526933878\n"
     ]
    }
   ],
   "source": [
    "# Calculate % Passing Math 70 or Greater \n",
    "pass_math = school_data_complete.loc[school_data_complete[\"math_score\"] >= 70] [\"math_score\"].count()\n",
    "pass_math_percen = pass_math / total_num_students *100\n",
    "print(pass_math_percen)"
   ]
  },
  {
   "cell_type": "code",
   "execution_count": 12,
   "id": "e986b413",
   "metadata": {},
   "outputs": [
    {
     "name": "stdout",
     "output_type": "stream",
     "text": [
      "85.80546336482001\n"
     ]
    }
   ],
   "source": [
    "\n",
    "# Calculate % Passing Reading 70 or Greater \n",
    "pass_read = school_data_complete.loc[school_data_complete[\"reading_score\"] >= 70] [\"reading_score\"].count()\n",
    "pass_read_percen = pass_read / total_num_students *100\n",
    "print(pass_read_percen)"
   ]
  },
  {
   "cell_type": "code",
   "execution_count": 13,
   "id": "48d99f0f",
   "metadata": {},
   "outputs": [
    {
     "data": {
      "text/plain": [
       "65.17232575950983"
      ]
     },
     "execution_count": 13,
     "metadata": {},
     "output_type": "execute_result"
    }
   ],
   "source": [
    "overall_passing = school_data_complete[(school_data_complete[\"math_score\"] >= 70) & \n",
    "                                              (school_data_complete[\"reading_score\"] >= 70)]\n",
    "overall_pass_higher_70 = (overall_passing) [\"Student ID\"].count()/total_num_students *100\n",
    "overall_pass_higher_70    "
   ]
  },
  {
   "cell_type": "code",
   "execution_count": 14,
   "id": "21f4cf0e",
   "metadata": {},
   "outputs": [
    {
     "data": {
      "text/html": [
       "<div>\n",
       "<style scoped>\n",
       "    .dataframe tbody tr th:only-of-type {\n",
       "        vertical-align: middle;\n",
       "    }\n",
       "\n",
       "    .dataframe tbody tr th {\n",
       "        vertical-align: top;\n",
       "    }\n",
       "\n",
       "    .dataframe thead th {\n",
       "        text-align: right;\n",
       "    }\n",
       "</style>\n",
       "<table border=\"1\" class=\"dataframe\">\n",
       "  <thead>\n",
       "    <tr style=\"text-align: right;\">\n",
       "      <th></th>\n",
       "      <th>Total Schools</th>\n",
       "      <th>Total Students</th>\n",
       "      <th>Total Budget</th>\n",
       "      <th>Average Math Score</th>\n",
       "      <th>Average Reading Score</th>\n",
       "      <th>Average Passing Both</th>\n",
       "      <th>% Passing Math</th>\n",
       "      <th>% Passing Reading</th>\n",
       "      <th>% Overall Passing (&gt;70)</th>\n",
       "    </tr>\n",
       "  </thead>\n",
       "  <tbody>\n",
       "    <tr>\n",
       "      <th>0</th>\n",
       "      <td>15</td>\n",
       "      <td>39170</td>\n",
       "      <td>$24,649,428.00</td>\n",
       "      <td>78.99</td>\n",
       "      <td>81.88</td>\n",
       "      <td>80.43</td>\n",
       "      <td>74.98</td>\n",
       "      <td>85.81</td>\n",
       "      <td>65.17</td>\n",
       "    </tr>\n",
       "  </tbody>\n",
       "</table>\n",
       "</div>"
      ],
      "text/plain": [
       "   Total Schools  Total Students    Total Budget  Average Math Score  \\\n",
       "0             15           39170  $24,649,428.00               78.99   \n",
       "\n",
       "   Average Reading Score  Average Passing Both  % Passing Math  \\\n",
       "0                  81.88                 80.43           74.98   \n",
       "\n",
       "   % Passing Reading  % Overall Passing (>70)  \n",
       "0              85.81                    65.17  "
      ]
     },
     "execution_count": 14,
     "metadata": {},
     "output_type": "execute_result"
    }
   ],
   "source": [
    "pd.options.display.float_format = '{:,.2f}'.format\n",
    "district_summary_df = pd.DataFrame ({\n",
    "        \"Total Schools\" : [total_schools],\n",
    "        \"Total Students\" : [total_num_students],\n",
    "        \"Total Budget\" : f\"${total_budget:,.2f}\",\n",
    "        \"Average Math Score\" : [avg_math_score],\n",
    "        \"Average Reading Score\" : [avg_read_score],\n",
    "        \"Average Passing Both\" : [avg_passing_both],\n",
    "        \"% Passing Math\" : [pass_math_percen],\n",
    "        \"% Passing Reading\" : [pass_read_percen],\n",
    "        \"% Overall Passing (>70)\" : [overall_pass_higher_70]\n",
    "})\n",
    "#Formatting\n",
    "district_summary_df"
   ]
  },
  {
   "cell_type": "markdown",
   "id": "363e9287",
   "metadata": {},
   "source": [
    "### 2.0 School Summary"
   ]
  },
  {
   "cell_type": "code",
   "execution_count": 37,
   "id": "8e15d132",
   "metadata": {},
   "outputs": [
    {
     "name": "stdout",
     "output_type": "stream",
     "text": [
      "school_name\n",
      "Bailey High School      77.05\n",
      "Cabrera High School     83.06\n",
      "Figueroa High School    76.71\n",
      "Ford High School        77.10\n",
      "Griffin High School     83.35\n",
      "Hernandez High School   77.29\n",
      "Holden High School      83.80\n",
      "Huang High School       76.63\n",
      "Johnson High School     77.07\n",
      "Pena High School        83.84\n",
      "Rodriguez High School   76.84\n",
      "Shelton High School     83.36\n",
      "Thomas High School      83.42\n",
      "Wilson High School      83.27\n",
      "Wright High School      83.68\n",
      "Name: math_score, dtype: float64\n",
      "school_name\n",
      "Bailey High School      66.68\n",
      "Cabrera High School     94.13\n",
      "Figueroa High School    65.99\n",
      "Ford High School        68.31\n",
      "Griffin High School     93.39\n",
      "Hernandez High School   66.75\n",
      "Holden High School      92.51\n",
      "Huang High School       65.68\n",
      "Johnson High School     66.06\n",
      "Pena High School        94.59\n",
      "Rodriguez High School   66.37\n",
      "Shelton High School     93.87\n",
      "Thomas High School      93.27\n",
      "Wilson High School      93.87\n",
      "Wright High School      93.33\n",
      "dtype: float64\n",
      "school_name\n",
      "Bailey High School      81.93\n",
      "Cabrera High School     97.04\n",
      "Figueroa High School    80.74\n",
      "Ford High School        79.30\n",
      "Griffin High School     97.14\n",
      "Hernandez High School   80.86\n",
      "Holden High School      96.25\n",
      "Huang High School       81.32\n",
      "Johnson High School     81.22\n",
      "Pena High School        95.95\n",
      "Rodriguez High School   80.22\n",
      "Shelton High School     95.85\n",
      "Thomas High School      97.31\n",
      "Wilson High School      96.54\n",
      "Wright High School      96.61\n",
      "dtype: float64\n",
      "school_name\n",
      "Bailey High School      54.64\n",
      "Cabrera High School     91.33\n",
      "Figueroa High School    53.20\n",
      "Ford High School        54.29\n",
      "Griffin High School     90.60\n",
      "Hernandez High School   53.53\n",
      "Holden High School      89.23\n",
      "Huang High School       53.51\n",
      "Johnson High School     53.54\n",
      "Pena High School        90.54\n",
      "Rodriguez High School   52.99\n",
      "Shelton High School     89.89\n",
      "Thomas High School      90.95\n",
      "Wilson High School      90.58\n",
      "Wright High School      90.33\n",
      "dtype: float64\n"
     ]
    }
   ],
   "source": [
    "# Caluclate the school types\n",
    "all_school_name = school_data_complete.set_index(\"school_name\").groupby([\"school_name\"])\n",
    "#School Types \n",
    "school_types = school_data.set_index(\"school_name\")[\"type\"]\n",
    "#Total Students per School\n",
    "total_stu = all_school_name['Student ID'].count()\n",
    "\n",
    "#Total School Budget \n",
    "school_budg = school_data.set_index(\"school_name\")[\"budget\"]\n",
    "school_budg                                                  \n",
    "#Per Student Budget\n",
    "student_budget = school_data.set_index(\"school_name\")[\"budget\"]/school_data.set_index(\"school_name\")[\"size\"]\n",
    "student_budget\n",
    "#Avg Math Score\n",
    "#avg_math_score = all_school_name[\"math_score\"].mean\n",
    "avg_math_score = all_school_name['math_score'].mean()\n",
    "print(avg_math_score)\n",
    "#Avg Reading Score \n",
    "avg_read_score = all_school_name['reading_score'].mean()\n",
    "# % Pass Math\n",
    "math_pass = school_data_complete[school_data_complete['math_score']>=70].groupby(['school_name']).count()[\"student_name\"]\n",
    "math_pass_percen = math_pass / total_stu * 100\n",
    "print(math_pass_percen)\n",
    "# % Pass Reading \n",
    "read_pass = school_data_complete[school_data_complete['reading_score']>=70].groupby(['school_name']).count()[\"student_name\"] \n",
    "read_pass_percen = read_pass / total_stu * 100\n",
    "print(read_pass_percen)\n",
    "\n",
    "# Overall Passing \n",
    "ov_pass = school_data_complete[(school_data_complete['reading_score'] >= 70) & (school_data_complete['math_score'] >= 70)].groupby(['school_name']).count()[\"student_name\"] / total_stu * 100\n",
    "print(ov_pass)"
   ]
  },
  {
   "cell_type": "code",
   "execution_count": 46,
   "id": "aca88f84",
   "metadata": {},
   "outputs": [
    {
     "data": {
      "text/html": [
       "<div>\n",
       "<style scoped>\n",
       "    .dataframe tbody tr th:only-of-type {\n",
       "        vertical-align: middle;\n",
       "    }\n",
       "\n",
       "    .dataframe tbody tr th {\n",
       "        vertical-align: top;\n",
       "    }\n",
       "\n",
       "    .dataframe thead th {\n",
       "        text-align: right;\n",
       "    }\n",
       "</style>\n",
       "<table border=\"1\" class=\"dataframe\">\n",
       "  <thead>\n",
       "    <tr style=\"text-align: right;\">\n",
       "      <th></th>\n",
       "      <th>School Type</th>\n",
       "      <th>Total Students</th>\n",
       "      <th>Per Student Budget</th>\n",
       "      <th>Total School Budget</th>\n",
       "      <th>Average Math Score</th>\n",
       "      <th>Average Reading Score</th>\n",
       "      <th>% Passing Math</th>\n",
       "      <th>% Passing Reading</th>\n",
       "      <th>% Overall Passing</th>\n",
       "    </tr>\n",
       "  </thead>\n",
       "  <tbody>\n",
       "    <tr>\n",
       "      <th>Bailey High School</th>\n",
       "      <td>District</td>\n",
       "      <td>4976</td>\n",
       "      <td>$628.00</td>\n",
       "      <td>$3,124,928.00</td>\n",
       "      <td>77.05</td>\n",
       "      <td>81.03</td>\n",
       "      <td>66.68</td>\n",
       "      <td>81.93</td>\n",
       "      <td>54.64</td>\n",
       "    </tr>\n",
       "    <tr>\n",
       "      <th>Cabrera High School</th>\n",
       "      <td>Charter</td>\n",
       "      <td>1858</td>\n",
       "      <td>$582.00</td>\n",
       "      <td>$1,081,356.00</td>\n",
       "      <td>83.06</td>\n",
       "      <td>83.98</td>\n",
       "      <td>94.13</td>\n",
       "      <td>97.04</td>\n",
       "      <td>91.33</td>\n",
       "    </tr>\n",
       "    <tr>\n",
       "      <th>Figueroa High School</th>\n",
       "      <td>District</td>\n",
       "      <td>2949</td>\n",
       "      <td>$639.00</td>\n",
       "      <td>$1,884,411.00</td>\n",
       "      <td>76.71</td>\n",
       "      <td>81.16</td>\n",
       "      <td>65.99</td>\n",
       "      <td>80.74</td>\n",
       "      <td>53.20</td>\n",
       "    </tr>\n",
       "    <tr>\n",
       "      <th>Ford High School</th>\n",
       "      <td>District</td>\n",
       "      <td>2739</td>\n",
       "      <td>$644.00</td>\n",
       "      <td>$1,763,916.00</td>\n",
       "      <td>77.10</td>\n",
       "      <td>80.75</td>\n",
       "      <td>68.31</td>\n",
       "      <td>79.30</td>\n",
       "      <td>54.29</td>\n",
       "    </tr>\n",
       "    <tr>\n",
       "      <th>Griffin High School</th>\n",
       "      <td>Charter</td>\n",
       "      <td>1468</td>\n",
       "      <td>$625.00</td>\n",
       "      <td>$917,500.00</td>\n",
       "      <td>83.35</td>\n",
       "      <td>83.82</td>\n",
       "      <td>93.39</td>\n",
       "      <td>97.14</td>\n",
       "      <td>90.60</td>\n",
       "    </tr>\n",
       "  </tbody>\n",
       "</table>\n",
       "</div>"
      ],
      "text/plain": [
       "                     School Type  Total Students Per Student Budget  \\\n",
       "Bailey High School      District            4976            $628.00   \n",
       "Cabrera High School      Charter            1858            $582.00   \n",
       "Figueroa High School    District            2949            $639.00   \n",
       "Ford High School        District            2739            $644.00   \n",
       "Griffin High School      Charter            1468            $625.00   \n",
       "\n",
       "                     Total School Budget  Average Math Score  \\\n",
       "Bailey High School         $3,124,928.00               77.05   \n",
       "Cabrera High School        $1,081,356.00               83.06   \n",
       "Figueroa High School       $1,884,411.00               76.71   \n",
       "Ford High School           $1,763,916.00               77.10   \n",
       "Griffin High School          $917,500.00               83.35   \n",
       "\n",
       "                      Average Reading Score  % Passing Math  \\\n",
       "Bailey High School                    81.03           66.68   \n",
       "Cabrera High School                   83.98           94.13   \n",
       "Figueroa High School                  81.16           65.99   \n",
       "Ford High School                      80.75           68.31   \n",
       "Griffin High School                   83.82           93.39   \n",
       "\n",
       "                      % Passing Reading  % Overall Passing  \n",
       "Bailey High School                81.93              54.64  \n",
       "Cabrera High School               97.04              91.33  \n",
       "Figueroa High School              80.74              53.20  \n",
       "Ford High School                  79.30              54.29  \n",
       "Griffin High School               97.14              90.60  "
      ]
     },
     "execution_count": 46,
     "metadata": {},
     "output_type": "execute_result"
    }
   ],
   "source": [
    "school_summary_df = pd.DataFrame({\n",
    "    \"School Type\": school_types,\n",
    "    \"Total Students\": total_stu,\n",
    "    \"Per Student Budget\": student_budget,\n",
    "    \"Total School Budget\": school_budg,\n",
    "    \"Average Math Score\": avg_math_score,\n",
    "    \"Average Reading Score\": avg_read_score,\n",
    "    '% Passing Math': math_pass_percen,\n",
    "    '% Passing Reading': read_pass_percen,\n",
    "    \"% Overall Passing\": ov_pass\n",
    "})\n",
    "school_summary_df.head(15)\n",
    "\n",
    "#Formating Budget Columns\n",
    "school_summary_df[\"Per Student Budget\"] = school_summary_df[\"Per Student Budget\"].map(\"${:,.2f}\".format)\n",
    "school_summary_df[\"Total School Budget\"] = school_summary_df[\"Total School Budget\"].map(\"${:,.2f}\".format)\n",
    "school_summary_df.head()"
   ]
  },
  {
   "cell_type": "markdown",
   "id": "d2b95cff",
   "metadata": {},
   "source": [
    "### 3.0  Top Performing Schools (By % Overall Passing)\n"
   ]
  },
  {
   "cell_type": "code",
   "execution_count": 50,
   "id": "db07dc15",
   "metadata": {},
   "outputs": [
    {
     "data": {
      "text/html": [
       "<div>\n",
       "<style scoped>\n",
       "    .dataframe tbody tr th:only-of-type {\n",
       "        vertical-align: middle;\n",
       "    }\n",
       "\n",
       "    .dataframe tbody tr th {\n",
       "        vertical-align: top;\n",
       "    }\n",
       "\n",
       "    .dataframe thead th {\n",
       "        text-align: right;\n",
       "    }\n",
       "</style>\n",
       "<table border=\"1\" class=\"dataframe\">\n",
       "  <thead>\n",
       "    <tr style=\"text-align: right;\">\n",
       "      <th></th>\n",
       "      <th>School Type</th>\n",
       "      <th>Total Students</th>\n",
       "      <th>Per Student Budget</th>\n",
       "      <th>Total School Budget</th>\n",
       "      <th>Average Math Score</th>\n",
       "      <th>Average Reading Score</th>\n",
       "      <th>% Passing Math</th>\n",
       "      <th>% Passing Reading</th>\n",
       "      <th>% Overall Passing</th>\n",
       "    </tr>\n",
       "  </thead>\n",
       "  <tbody>\n",
       "    <tr>\n",
       "      <th>Cabrera High School</th>\n",
       "      <td>Charter</td>\n",
       "      <td>1858</td>\n",
       "      <td>$582.00</td>\n",
       "      <td>$1,081,356.00</td>\n",
       "      <td>83.06</td>\n",
       "      <td>83.98</td>\n",
       "      <td>94.13</td>\n",
       "      <td>97.04</td>\n",
       "      <td>91.33</td>\n",
       "    </tr>\n",
       "    <tr>\n",
       "      <th>Thomas High School</th>\n",
       "      <td>Charter</td>\n",
       "      <td>1635</td>\n",
       "      <td>$638.00</td>\n",
       "      <td>$1,043,130.00</td>\n",
       "      <td>83.42</td>\n",
       "      <td>83.85</td>\n",
       "      <td>93.27</td>\n",
       "      <td>97.31</td>\n",
       "      <td>90.95</td>\n",
       "    </tr>\n",
       "    <tr>\n",
       "      <th>Griffin High School</th>\n",
       "      <td>Charter</td>\n",
       "      <td>1468</td>\n",
       "      <td>$625.00</td>\n",
       "      <td>$917,500.00</td>\n",
       "      <td>83.35</td>\n",
       "      <td>83.82</td>\n",
       "      <td>93.39</td>\n",
       "      <td>97.14</td>\n",
       "      <td>90.60</td>\n",
       "    </tr>\n",
       "    <tr>\n",
       "      <th>Wilson High School</th>\n",
       "      <td>Charter</td>\n",
       "      <td>2283</td>\n",
       "      <td>$578.00</td>\n",
       "      <td>$1,319,574.00</td>\n",
       "      <td>83.27</td>\n",
       "      <td>83.99</td>\n",
       "      <td>93.87</td>\n",
       "      <td>96.54</td>\n",
       "      <td>90.58</td>\n",
       "    </tr>\n",
       "    <tr>\n",
       "      <th>Pena High School</th>\n",
       "      <td>Charter</td>\n",
       "      <td>962</td>\n",
       "      <td>$609.00</td>\n",
       "      <td>$585,858.00</td>\n",
       "      <td>83.84</td>\n",
       "      <td>84.04</td>\n",
       "      <td>94.59</td>\n",
       "      <td>95.95</td>\n",
       "      <td>90.54</td>\n",
       "    </tr>\n",
       "  </tbody>\n",
       "</table>\n",
       "</div>"
      ],
      "text/plain": [
       "                    School Type  Total Students Per Student Budget  \\\n",
       "Cabrera High School     Charter            1858            $582.00   \n",
       "Thomas High School      Charter            1635            $638.00   \n",
       "Griffin High School     Charter            1468            $625.00   \n",
       "Wilson High School      Charter            2283            $578.00   \n",
       "Pena High School        Charter             962            $609.00   \n",
       "\n",
       "                    Total School Budget  Average Math Score  \\\n",
       "Cabrera High School       $1,081,356.00               83.06   \n",
       "Thomas High School        $1,043,130.00               83.42   \n",
       "Griffin High School         $917,500.00               83.35   \n",
       "Wilson High School        $1,319,574.00               83.27   \n",
       "Pena High School            $585,858.00               83.84   \n",
       "\n",
       "                     Average Reading Score  % Passing Math  % Passing Reading  \\\n",
       "Cabrera High School                  83.98           94.13              97.04   \n",
       "Thomas High School                   83.85           93.27              97.31   \n",
       "Griffin High School                  83.82           93.39              97.14   \n",
       "Wilson High School                   83.99           93.87              96.54   \n",
       "Pena High School                     84.04           94.59              95.95   \n",
       "\n",
       "                     % Overall Passing  \n",
       "Cabrera High School              91.33  \n",
       "Thomas High School               90.95  \n",
       "Griffin High School              90.60  \n",
       "Wilson High School               90.58  \n",
       "Pena High School                 90.54  "
      ]
     },
     "execution_count": 50,
     "metadata": {},
     "output_type": "execute_result"
    }
   ],
   "source": [
    "top_perform_school_df = school_summary_df.sort_values([\"% Overall Passing\"], ascending=False)\n",
    "top_perform_school_df.head()"
   ]
  },
  {
   "cell_type": "code",
   "execution_count": null,
   "id": "72879ede",
   "metadata": {},
   "outputs": [],
   "source": []
  },
  {
   "cell_type": "markdown",
   "id": "fb3a6503",
   "metadata": {},
   "source": [
    "### 4.0 Bottom Performing Schools (By % Overall Passing)"
   ]
  },
  {
   "cell_type": "code",
   "execution_count": null,
   "id": "9fda9e03",
   "metadata": {},
   "outputs": [],
   "source": []
  },
  {
   "cell_type": "code",
   "execution_count": null,
   "id": "5cdfc6ac",
   "metadata": {},
   "outputs": [],
   "source": []
  },
  {
   "cell_type": "markdown",
   "id": "477508d6",
   "metadata": {},
   "source": [
    "### 5.0 Math Scores by Grade\n"
   ]
  },
  {
   "cell_type": "code",
   "execution_count": null,
   "id": "fc6bc85b",
   "metadata": {},
   "outputs": [],
   "source": []
  },
  {
   "cell_type": "code",
   "execution_count": null,
   "id": "3e0b9b61",
   "metadata": {},
   "outputs": [],
   "source": []
  },
  {
   "cell_type": "markdown",
   "id": "7c8a4a93",
   "metadata": {},
   "source": [
    "### 6.0 Reading Scores by Grade"
   ]
  },
  {
   "cell_type": "code",
   "execution_count": null,
   "id": "b7ec1a23",
   "metadata": {},
   "outputs": [],
   "source": []
  },
  {
   "cell_type": "code",
   "execution_count": null,
   "id": "27080923",
   "metadata": {},
   "outputs": [],
   "source": []
  },
  {
   "cell_type": "markdown",
   "id": "abf906a0",
   "metadata": {},
   "source": [
    "### 7.0 Scores by School Spending"
   ]
  },
  {
   "cell_type": "code",
   "execution_count": null,
   "id": "050c7f11",
   "metadata": {},
   "outputs": [],
   "source": []
  },
  {
   "cell_type": "code",
   "execution_count": null,
   "id": "6b9d5f86",
   "metadata": {},
   "outputs": [],
   "source": []
  },
  {
   "cell_type": "markdown",
   "id": "7d62a42c",
   "metadata": {},
   "source": [
    "### 8.0 Scores by School Size\n"
   ]
  },
  {
   "cell_type": "code",
   "execution_count": null,
   "id": "383e8c89",
   "metadata": {},
   "outputs": [],
   "source": []
  },
  {
   "cell_type": "code",
   "execution_count": null,
   "id": "214d945f",
   "metadata": {},
   "outputs": [],
   "source": []
  },
  {
   "cell_type": "markdown",
   "id": "564a349c",
   "metadata": {},
   "source": [
    "### 9.0 Scores by School Type"
   ]
  },
  {
   "cell_type": "code",
   "execution_count": null,
   "id": "4e055061",
   "metadata": {},
   "outputs": [],
   "source": []
  },
  {
   "cell_type": "code",
   "execution_count": null,
   "id": "0a20879f",
   "metadata": {},
   "outputs": [],
   "source": []
  },
  {
   "cell_type": "code",
   "execution_count": null,
   "id": "2c8e880c",
   "metadata": {},
   "outputs": [],
   "source": []
  }
 ],
 "metadata": {
  "kernelspec": {
   "display_name": "Python 3 (ipykernel)",
   "language": "python",
   "name": "python3"
  },
  "language_info": {
   "codemirror_mode": {
    "name": "ipython",
    "version": 3
   },
   "file_extension": ".py",
   "mimetype": "text/x-python",
   "name": "python",
   "nbconvert_exporter": "python",
   "pygments_lexer": "ipython3",
   "version": "3.7.7"
  }
 },
 "nbformat": 4,
 "nbformat_minor": 5
}
